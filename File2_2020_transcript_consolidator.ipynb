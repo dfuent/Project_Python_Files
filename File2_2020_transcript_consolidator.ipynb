{
 "cells": [
  {
   "cell_type": "markdown",
   "metadata": {},
   "source": [
    "# STEP 2: 2020 Presidential and Vice Presidential Debate Consolidator\n",
    "\n",
    "## Polisticians Semester Project\n",
    "\n",
    "### data sourced from Rev.com; these data were easier to wrangle than the CPD's"
   ]
  },
  {
   "cell_type": "code",
   "execution_count": 6,
   "metadata": {},
   "outputs": [],
   "source": [
    "# import packages\n",
    "\n",
    "import re\n",
    "import pandas as pd\n",
    "import time"
   ]
  },
  {
   "cell_type": "code",
   "execution_count": 10,
   "metadata": {},
   "outputs": [
    {
     "name": "stdout",
     "output_type": "stream",
     "text": [
      "Start the process\n",
      "First Presidential debate pulled\n",
      "Second Presidential debate pulled\n",
      "Only Vice Presidential debate pulled\n",
      "Finished in  0.03 seconds\n"
     ]
    }
   ],
   "source": [
    "# File used to open 2020 debate text files and prepare them for integration w/\n",
    "# the rest of the process\n",
    "\n",
    "t_0 = time.time()\n",
    "print('Start the process')\n",
    "\n",
    "# file names\n",
    "\n",
    "# these data weren't scraped since there are so few transcripts\n",
    "# the text files below were created via copying from the source data as large blocks of text\n",
    "\n",
    "d = ['2020_debate1.txt', '2020_debate2.txt', '2020_VP_debate.txt'] \n",
    "\n",
    "# list to which transcripts will be added\n",
    "t = []\n",
    "\n",
    "# blank DF with transcript header; will add the transcript text to the this DF\n",
    "df = pd.DataFrame(columns = ['Transcript'])\n",
    "\n",
    "# open file, split the text into a list by tab (4 spaces in the file means a transition to a new speaker)\n",
    "with open('2020_debate1.txt','r') as f:    \n",
    "    for l in f:\n",
    "        t = re.split(r'\\s{4,}', l) # split text into blocks by 4 spaces to obtain transitions \n",
    "\n",
    "# add list to DF\n",
    "df['Transcript'] = t\n",
    "\n",
    "print('First Presidential debate pulled') # let the user know the first debate was pulled\n",
    "\n",
    "# add extra info to DF, like which debate and the position (P or VP)\n",
    "df['Debate'] = 'September 29, 2020 Debate'\n",
    "df['Position'] = 'President'\n",
    "\n",
    "# start same process for the second Prez debate; blank df with Transcript header\n",
    "df2 = pd.DataFrame(columns = ['Transcript'])\n",
    "\n",
    "t = [] # blank list to hold transcripts\n",
    "\n",
    "with open('2020_debate2.txt','r') as f: # open second text file\n",
    "    for l in f:\n",
    "        t = re.split(r'\\s{4,}', l) # same logic to pull blocks of text\n",
    "\n",
    "df2['Transcript'] = t # add transcript blocks to the DF\n",
    "        \n",
    "print('Second Presidential debate pulled')       \n",
    "\n",
    "df2['Debate'] = 'October 22, 2020 Debate' # Add information\n",
    "df2['Position'] = 'President'\n",
    "\n",
    "# start the process for the VP debate; process is the same as the two Prez\n",
    "# debates\n",
    "df3 = pd.DataFrame(columns = ['Transcript'])\n",
    "\n",
    "with open('2020_VP_debate.txt','r') as f:    \n",
    "    for l in f:\n",
    "        t = re.split(r'\\s{4,}', l)\n",
    " \n",
    "print('Only Vice Presidential debate pulled')\n",
    "\n",
    "df3['Transcript'] = t\n",
    "\n",
    "df3['Debate'] = 'October 7, 2020 Debate'\n",
    "df3['Position'] = 'Vice President'\n",
    "\n",
    "df = df.append(df2) # append the DFs created above\n",
    "df = df.append(df3)\n",
    "\n",
    "print('Finished in {0: .2f} seconds'.format(time.time()-t_0))"
   ]
  },
  {
   "cell_type": "markdown",
   "metadata": {},
   "source": [
    "## We now have a DF with the raw 2020 transcript data\n",
    "# The following code helps standardize the data so they can be appended to the rest of the transcript files"
   ]
  },
  {
   "cell_type": "code",
   "execution_count": 11,
   "metadata": {},
   "outputs": [
    {
     "name": "stdout",
     "output_type": "stream",
     "text": [
      "Process complete. Data file created\n",
      "Finished in  0.03 seconds\n"
     ]
    }
   ],
   "source": [
    "# rev.com includes the time at which each candidate said a given statement\n",
    "# take this out of the transcript and add it to its own column\n",
    "\n",
    "t_0 = time.time()\n",
    "df['Time'] = df['Transcript'].apply(lambda st: st[st.find(\"(\")+1:st.find(\")\")])\n",
    "\n",
    "# need to clean up the () that were around the time. Replace with blanks\n",
    "\n",
    "df['Transcript'] = df['Transcript'].replace(\"[\\(\\[].*?[\\)\\]]\", \"\",regex=True)\n",
    "\n",
    "# the speaker in the transcript is delimited with ':'; grab the name before\n",
    "# the colon and put in the Speaker_Clean column. This is similar to the process\n",
    "# we ran on the CPD data\n",
    "\n",
    "df['Speaker_Clean'] = df['Transcript'].apply(lambda st: st[:st.find(\":\")])\n",
    "\n",
    "# put the purpose as Candidate (even though some of the transcript statements\n",
    "# are from the moderators, these get cleaned up in the final files, so we can\n",
    "# call everyone a candidate; others will be removed later)\n",
    "\n",
    "df['Purpose'] = 'Candidate'\n",
    "\n",
    "# we will add the Speaker_Standardized column, on which we join a mapping\n",
    "# file later on, like we did for the CPD transcripts\n",
    "\n",
    "df['Speaker_standardized'] = df['Speaker_Clean']\n",
    "\n",
    "# used the following to test that the name pull worked properly; uncomment to create a column that also contains the \n",
    "# original transcript lines\n",
    "\n",
    "#df['Transcript_OG'] = df['Transcript']\n",
    "\n",
    "# Remove the name in the Transcript rows and use the rest of the text\n",
    "# (index = 1) to clean up the Transcript. Checked to make sure candidates didn't\n",
    "# have a colon in their transcript besides the one after their name\n",
    "\n",
    "df['Transcript'] = df['Transcript'].str.split(':').str[1]\n",
    "\n",
    "# remove any white space on the Transcript\n",
    "df['Transcript'] = df['Transcript'].str.strip(' ')\n",
    "\n",
    "# send the transcripts to a CSV to be used in the rest of the process\n",
    "df.to_csv('2020debates.csv', index = False)\n",
    "\n",
    "print('Process complete. Data file created')\n",
    "print('Finished in {0: .2f} seconds'.format(time.time()-t_0))"
   ]
  },
  {
   "cell_type": "markdown",
   "metadata": {},
   "source": [
    "## 2020debates.csv will be consolidated with the rest of the debate transcripts output from the webscraper in the next file."
   ]
  },
  {
   "cell_type": "code",
   "execution_count": null,
   "metadata": {},
   "outputs": [],
   "source": []
  }
 ],
 "metadata": {
  "kernelspec": {
   "display_name": "Python 3",
   "language": "python",
   "name": "python3"
  },
  "language_info": {
   "codemirror_mode": {
    "name": "ipython",
    "version": 3
   },
   "file_extension": ".py",
   "mimetype": "text/x-python",
   "name": "python",
   "nbconvert_exporter": "python",
   "pygments_lexer": "ipython3",
   "version": "3.7.9"
  }
 },
 "nbformat": 4,
 "nbformat_minor": 4
}
