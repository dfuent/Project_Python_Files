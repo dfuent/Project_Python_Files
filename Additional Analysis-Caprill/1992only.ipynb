{
 "cells": [
  {
   "cell_type": "code",
   "execution_count": 6,
   "metadata": {},
   "outputs": [],
   "source": [
    "import pandas as pd\n",
    "import os\n",
    "import numpy as np"
   ]
  },
  {
   "cell_type": "code",
   "execution_count": 7,
   "metadata": {},
   "outputs": [],
   "source": [
    "df = pd.read_csv('Transcripts_1992.csv')"
   ]
  },
  {
   "cell_type": "code",
   "execution_count": 8,
   "metadata": {},
   "outputs": [
    {
     "data": {
      "text/html": [
       "<div>\n",
       "<style scoped>\n",
       "    .dataframe tbody tr th:only-of-type {\n",
       "        vertical-align: middle;\n",
       "    }\n",
       "\n",
       "    .dataframe tbody tr th {\n",
       "        vertical-align: top;\n",
       "    }\n",
       "\n",
       "    .dataframe thead th {\n",
       "        text-align: right;\n",
       "    }\n",
       "</style>\n",
       "<table border=\"1\" class=\"dataframe\">\n",
       "  <thead>\n",
       "    <tr style=\"text-align: right;\">\n",
       "      <th></th>\n",
       "      <th>Unnamed: 0</th>\n",
       "      <th>Unnamed: 0.1</th>\n",
       "      <th>Line Count</th>\n",
       "      <th>Debate</th>\n",
       "      <th>Transcript</th>\n",
       "      <th>Speaker_Clean</th>\n",
       "      <th>word_count</th>\n",
       "      <th>Speaker_standardized</th>\n",
       "      <th>Affiliation</th>\n",
       "      <th>Purpose</th>\n",
       "      <th>...</th>\n",
       "      <th>Sentiment</th>\n",
       "      <th>comp_val</th>\n",
       "      <th>neg_val</th>\n",
       "      <th>neu_val</th>\n",
       "      <th>pos_val</th>\n",
       "      <th>cum_sentiment</th>\n",
       "      <th>max_sentiment</th>\n",
       "      <th>cum_wordcount</th>\n",
       "      <th>total_wordcount</th>\n",
       "      <th>sent per word</th>\n",
       "    </tr>\n",
       "  </thead>\n",
       "  <tbody>\n",
       "    <tr>\n",
       "      <td>0</td>\n",
       "      <td>3912</td>\n",
       "      <td>3912</td>\n",
       "      <td>7</td>\n",
       "      <td>October 15, 1992 Second Half Debate Transcript</td>\n",
       "      <td>PEROT: MAY I ANSWER THAT?</td>\n",
       "      <td>PEROT</td>\n",
       "      <td>4.0</td>\n",
       "      <td>Ross Perot</td>\n",
       "      <td>Independent</td>\n",
       "      <td>Candidate</td>\n",
       "      <td>...</td>\n",
       "      <td>[('compound', 0.0), ('neg', 0.0), ('neu', 1.0)...</td>\n",
       "      <td>0.0000</td>\n",
       "      <td>0.000</td>\n",
       "      <td>1.000</td>\n",
       "      <td>0.000</td>\n",
       "      <td>0.0000</td>\n",
       "      <td>10.5786</td>\n",
       "      <td>4.0</td>\n",
       "      <td>2422.0</td>\n",
       "      <td>0.004368</td>\n",
       "    </tr>\n",
       "    <tr>\n",
       "      <td>1</td>\n",
       "      <td>3914</td>\n",
       "      <td>3914</td>\n",
       "      <td>9</td>\n",
       "      <td>October 15, 1992 Second Half Debate Transcript</td>\n",
       "      <td>PEROT: WHO DO YOU WANT TO START WITH?</td>\n",
       "      <td>PEROT</td>\n",
       "      <td>7.0</td>\n",
       "      <td>Ross Perot</td>\n",
       "      <td>Independent</td>\n",
       "      <td>Candidate</td>\n",
       "      <td>...</td>\n",
       "      <td>[('compound', 0.0772), ('neg', 0.0), ('neu', 0...</td>\n",
       "      <td>0.0772</td>\n",
       "      <td>0.000</td>\n",
       "      <td>0.843</td>\n",
       "      <td>0.157</td>\n",
       "      <td>0.0772</td>\n",
       "      <td>10.5786</td>\n",
       "      <td>11.0</td>\n",
       "      <td>2422.0</td>\n",
       "      <td>0.004368</td>\n",
       "    </tr>\n",
       "    <tr>\n",
       "      <td>2</td>\n",
       "      <td>3916</td>\n",
       "      <td>3916</td>\n",
       "      <td>11</td>\n",
       "      <td>October 15, 1992 Second Half Debate Transcript</td>\n",
       "      <td>PEROT: IT CAUSED ME TO DISRUPT MY PRIVATE LIFE...</td>\n",
       "      <td>PEROT</td>\n",
       "      <td>59.0</td>\n",
       "      <td>Ross Perot</td>\n",
       "      <td>Independent</td>\n",
       "      <td>Candidate</td>\n",
       "      <td>...</td>\n",
       "      <td>[('compound', 0.8516), ('neg', 0.0), ('neu', 0...</td>\n",
       "      <td>0.8516</td>\n",
       "      <td>0.000</td>\n",
       "      <td>0.851</td>\n",
       "      <td>0.149</td>\n",
       "      <td>0.9288</td>\n",
       "      <td>10.5786</td>\n",
       "      <td>70.0</td>\n",
       "      <td>2422.0</td>\n",
       "      <td>0.004368</td>\n",
       "    </tr>\n",
       "    <tr>\n",
       "      <td>3</td>\n",
       "      <td>3917</td>\n",
       "      <td>3917</td>\n",
       "      <td>12</td>\n",
       "      <td>October 15, 1992 Second Half Debate Transcript</td>\n",
       "      <td>BUT I HAVE LIVED THE AMERICAN DREAM. I CAME FR...</td>\n",
       "      <td>PEROT</td>\n",
       "      <td>41.0</td>\n",
       "      <td>Ross Perot</td>\n",
       "      <td>Independent</td>\n",
       "      <td>Candidate</td>\n",
       "      <td>...</td>\n",
       "      <td>[('compound', 0.97), ('neg', 0.0), ('neu', 0.6...</td>\n",
       "      <td>0.9700</td>\n",
       "      <td>0.000</td>\n",
       "      <td>0.624</td>\n",
       "      <td>0.376</td>\n",
       "      <td>1.8988</td>\n",
       "      <td>10.5786</td>\n",
       "      <td>111.0</td>\n",
       "      <td>2422.0</td>\n",
       "      <td>0.004368</td>\n",
       "    </tr>\n",
       "    <tr>\n",
       "      <td>4</td>\n",
       "      <td>3918</td>\n",
       "      <td>3918</td>\n",
       "      <td>13</td>\n",
       "      <td>October 15, 1992 Second Half Debate Transcript</td>\n",
       "      <td>BUT I WANT ALL THE CHILDREN — I WANT THESE YOU...</td>\n",
       "      <td>PEROT</td>\n",
       "      <td>54.0</td>\n",
       "      <td>Ross Perot</td>\n",
       "      <td>Independent</td>\n",
       "      <td>Candidate</td>\n",
       "      <td>...</td>\n",
       "      <td>[('compound', 0.8625), ('neg', 0.056), ('neu',...</td>\n",
       "      <td>0.8625</td>\n",
       "      <td>0.056</td>\n",
       "      <td>0.706</td>\n",
       "      <td>0.238</td>\n",
       "      <td>2.7613</td>\n",
       "      <td>10.5786</td>\n",
       "      <td>165.0</td>\n",
       "      <td>2422.0</td>\n",
       "      <td>0.004368</td>\n",
       "    </tr>\n",
       "    <tr>\n",
       "      <td>...</td>\n",
       "      <td>...</td>\n",
       "      <td>...</td>\n",
       "      <td>...</td>\n",
       "      <td>...</td>\n",
       "      <td>...</td>\n",
       "      <td>...</td>\n",
       "      <td>...</td>\n",
       "      <td>...</td>\n",
       "      <td>...</td>\n",
       "      <td>...</td>\n",
       "      <td>...</td>\n",
       "      <td>...</td>\n",
       "      <td>...</td>\n",
       "      <td>...</td>\n",
       "      <td>...</td>\n",
       "      <td>...</td>\n",
       "      <td>...</td>\n",
       "      <td>...</td>\n",
       "      <td>...</td>\n",
       "      <td>...</td>\n",
       "      <td>...</td>\n",
       "    </tr>\n",
       "    <tr>\n",
       "      <td>1171</td>\n",
       "      <td>13369</td>\n",
       "      <td>13369</td>\n",
       "      <td>550</td>\n",
       "      <td>October 13, 1992 Debate Transcript</td>\n",
       "      <td>I WAS IN MIDDLETOWN, OHIO, TALKING TO A WELFAR...</td>\n",
       "      <td>QUAYLE</td>\n",
       "      <td>84.0</td>\n",
       "      <td>Dan Quayle</td>\n",
       "      <td>Republican</td>\n",
       "      <td>Candidate</td>\n",
       "      <td>...</td>\n",
       "      <td>[('compound', 0.8674), ('neg', 0.0), ('neu', 0...</td>\n",
       "      <td>0.8674</td>\n",
       "      <td>0.000</td>\n",
       "      <td>0.882</td>\n",
       "      <td>0.118</td>\n",
       "      <td>20.5524</td>\n",
       "      <td>21.9624</td>\n",
       "      <td>5100.0</td>\n",
       "      <td>5241.0</td>\n",
       "      <td>0.004190</td>\n",
       "    </tr>\n",
       "    <tr>\n",
       "      <td>1172</td>\n",
       "      <td>13370</td>\n",
       "      <td>13370</td>\n",
       "      <td>551</td>\n",
       "      <td>October 13, 1992 Debate Transcript</td>\n",
       "      <td>I WAS IN VILNIUS, LITHUANIA, INDEPENDENCE SQUA...</td>\n",
       "      <td>I was in Vilnius, Lithuania, Independence Squa...</td>\n",
       "      <td>28.0</td>\n",
       "      <td>Dan Quayle</td>\n",
       "      <td>Republican</td>\n",
       "      <td>Candidate</td>\n",
       "      <td>...</td>\n",
       "      <td>[('compound', 0.7481), ('neg', 0.0), ('neu', 0...</td>\n",
       "      <td>0.7481</td>\n",
       "      <td>0.000</td>\n",
       "      <td>0.797</td>\n",
       "      <td>0.203</td>\n",
       "      <td>21.3005</td>\n",
       "      <td>21.9624</td>\n",
       "      <td>5128.0</td>\n",
       "      <td>5241.0</td>\n",
       "      <td>0.004190</td>\n",
       "    </tr>\n",
       "    <tr>\n",
       "      <td>1173</td>\n",
       "      <td>13371</td>\n",
       "      <td>13371</td>\n",
       "      <td>552</td>\n",
       "      <td>October 13, 1992 Debate Transcript</td>\n",
       "      <td>YES, IN THE NEXT 4 YEARS, AS I SAID, SOMEWHERE...</td>\n",
       "      <td>I was in Vilnius, Lithuania, Independence Squa...</td>\n",
       "      <td>70.0</td>\n",
       "      <td>Dan Quayle</td>\n",
       "      <td>Republican</td>\n",
       "      <td>Candidate</td>\n",
       "      <td>...</td>\n",
       "      <td>[('compound', -0.1138), ('neg', 0.106), ('neu'...</td>\n",
       "      <td>-0.1138</td>\n",
       "      <td>0.106</td>\n",
       "      <td>0.781</td>\n",
       "      <td>0.113</td>\n",
       "      <td>21.1867</td>\n",
       "      <td>21.9624</td>\n",
       "      <td>5198.0</td>\n",
       "      <td>5241.0</td>\n",
       "      <td>0.004190</td>\n",
       "    </tr>\n",
       "    <tr>\n",
       "      <td>1174</td>\n",
       "      <td>13372</td>\n",
       "      <td>13372</td>\n",
       "      <td>553</td>\n",
       "      <td>October 13, 1992 Debate Transcript</td>\n",
       "      <td>THE CHOICE IS YOURS. THE AMERICAN PEOPLE SHOUL...</td>\n",
       "      <td>I was in Vilnius, Lithuania, Independence Squa...</td>\n",
       "      <td>42.0</td>\n",
       "      <td>Dan Quayle</td>\n",
       "      <td>Republican</td>\n",
       "      <td>Candidate</td>\n",
       "      <td>...</td>\n",
       "      <td>[('compound', 0.7757), ('neg', 0.032), ('neu',...</td>\n",
       "      <td>0.7757</td>\n",
       "      <td>0.032</td>\n",
       "      <td>0.791</td>\n",
       "      <td>0.177</td>\n",
       "      <td>21.9624</td>\n",
       "      <td>21.9624</td>\n",
       "      <td>5240.0</td>\n",
       "      <td>5241.0</td>\n",
       "      <td>0.004190</td>\n",
       "    </tr>\n",
       "    <tr>\n",
       "      <td>1175</td>\n",
       "      <td>13373</td>\n",
       "      <td>13373</td>\n",
       "      <td>554</td>\n",
       "      <td>October 13, 1992 Debate Transcript</td>\n",
       "      <td>(APPLAUSE)</td>\n",
       "      <td>I was in Vilnius, Lithuania, Independence Squa...</td>\n",
       "      <td>1.0</td>\n",
       "      <td>Dan Quayle</td>\n",
       "      <td>Republican</td>\n",
       "      <td>Candidate</td>\n",
       "      <td>...</td>\n",
       "      <td>[('compound', 0.0), ('neg', 0.0), ('neu', 1.0)...</td>\n",
       "      <td>0.0000</td>\n",
       "      <td>0.000</td>\n",
       "      <td>1.000</td>\n",
       "      <td>0.000</td>\n",
       "      <td>21.9624</td>\n",
       "      <td>21.9624</td>\n",
       "      <td>5241.0</td>\n",
       "      <td>5241.0</td>\n",
       "      <td>0.004190</td>\n",
       "    </tr>\n",
       "  </tbody>\n",
       "</table>\n",
       "<p>1176 rows × 30 columns</p>\n",
       "</div>"
      ],
      "text/plain": [
       "      Unnamed: 0  Unnamed: 0.1  Line Count  \\\n",
       "0           3912          3912           7   \n",
       "1           3914          3914           9   \n",
       "2           3916          3916          11   \n",
       "3           3917          3917          12   \n",
       "4           3918          3918          13   \n",
       "...          ...           ...         ...   \n",
       "1171       13369         13369         550   \n",
       "1172       13370         13370         551   \n",
       "1173       13371         13371         552   \n",
       "1174       13372         13372         553   \n",
       "1175       13373         13373         554   \n",
       "\n",
       "                                              Debate  \\\n",
       "0     October 15, 1992 Second Half Debate Transcript   \n",
       "1     October 15, 1992 Second Half Debate Transcript   \n",
       "2     October 15, 1992 Second Half Debate Transcript   \n",
       "3     October 15, 1992 Second Half Debate Transcript   \n",
       "4     October 15, 1992 Second Half Debate Transcript   \n",
       "...                                              ...   \n",
       "1171              October 13, 1992 Debate Transcript   \n",
       "1172              October 13, 1992 Debate Transcript   \n",
       "1173              October 13, 1992 Debate Transcript   \n",
       "1174              October 13, 1992 Debate Transcript   \n",
       "1175              October 13, 1992 Debate Transcript   \n",
       "\n",
       "                                             Transcript  \\\n",
       "0                             PEROT: MAY I ANSWER THAT?   \n",
       "1                 PEROT: WHO DO YOU WANT TO START WITH?   \n",
       "2     PEROT: IT CAUSED ME TO DISRUPT MY PRIVATE LIFE...   \n",
       "3     BUT I HAVE LIVED THE AMERICAN DREAM. I CAME FR...   \n",
       "4     BUT I WANT ALL THE CHILDREN — I WANT THESE YOU...   \n",
       "...                                                 ...   \n",
       "1171  I WAS IN MIDDLETOWN, OHIO, TALKING TO A WELFAR...   \n",
       "1172  I WAS IN VILNIUS, LITHUANIA, INDEPENDENCE SQUA...   \n",
       "1173  YES, IN THE NEXT 4 YEARS, AS I SAID, SOMEWHERE...   \n",
       "1174  THE CHOICE IS YOURS. THE AMERICAN PEOPLE SHOUL...   \n",
       "1175                                         (APPLAUSE)   \n",
       "\n",
       "                                          Speaker_Clean  word_count  \\\n",
       "0                                                 PEROT         4.0   \n",
       "1                                                 PEROT         7.0   \n",
       "2                                                 PEROT        59.0   \n",
       "3                                                 PEROT        41.0   \n",
       "4                                                 PEROT        54.0   \n",
       "...                                                 ...         ...   \n",
       "1171                                             QUAYLE        84.0   \n",
       "1172  I was in Vilnius, Lithuania, Independence Squa...        28.0   \n",
       "1173  I was in Vilnius, Lithuania, Independence Squa...        70.0   \n",
       "1174  I was in Vilnius, Lithuania, Independence Squa...        42.0   \n",
       "1175  I was in Vilnius, Lithuania, Independence Squa...         1.0   \n",
       "\n",
       "     Speaker_standardized  Affiliation    Purpose  ...  \\\n",
       "0              Ross Perot  Independent  Candidate  ...   \n",
       "1              Ross Perot  Independent  Candidate  ...   \n",
       "2              Ross Perot  Independent  Candidate  ...   \n",
       "3              Ross Perot  Independent  Candidate  ...   \n",
       "4              Ross Perot  Independent  Candidate  ...   \n",
       "...                   ...          ...        ...  ...   \n",
       "1171           Dan Quayle   Republican  Candidate  ...   \n",
       "1172           Dan Quayle   Republican  Candidate  ...   \n",
       "1173           Dan Quayle   Republican  Candidate  ...   \n",
       "1174           Dan Quayle   Republican  Candidate  ...   \n",
       "1175           Dan Quayle   Republican  Candidate  ...   \n",
       "\n",
       "                                              Sentiment comp_val neg_val  \\\n",
       "0     [('compound', 0.0), ('neg', 0.0), ('neu', 1.0)...   0.0000   0.000   \n",
       "1     [('compound', 0.0772), ('neg', 0.0), ('neu', 0...   0.0772   0.000   \n",
       "2     [('compound', 0.8516), ('neg', 0.0), ('neu', 0...   0.8516   0.000   \n",
       "3     [('compound', 0.97), ('neg', 0.0), ('neu', 0.6...   0.9700   0.000   \n",
       "4     [('compound', 0.8625), ('neg', 0.056), ('neu',...   0.8625   0.056   \n",
       "...                                                 ...      ...     ...   \n",
       "1171  [('compound', 0.8674), ('neg', 0.0), ('neu', 0...   0.8674   0.000   \n",
       "1172  [('compound', 0.7481), ('neg', 0.0), ('neu', 0...   0.7481   0.000   \n",
       "1173  [('compound', -0.1138), ('neg', 0.106), ('neu'...  -0.1138   0.106   \n",
       "1174  [('compound', 0.7757), ('neg', 0.032), ('neu',...   0.7757   0.032   \n",
       "1175  [('compound', 0.0), ('neg', 0.0), ('neu', 1.0)...   0.0000   0.000   \n",
       "\n",
       "     neu_val pos_val  cum_sentiment max_sentiment cum_wordcount  \\\n",
       "0      1.000   0.000         0.0000       10.5786           4.0   \n",
       "1      0.843   0.157         0.0772       10.5786          11.0   \n",
       "2      0.851   0.149         0.9288       10.5786          70.0   \n",
       "3      0.624   0.376         1.8988       10.5786         111.0   \n",
       "4      0.706   0.238         2.7613       10.5786         165.0   \n",
       "...      ...     ...            ...           ...           ...   \n",
       "1171   0.882   0.118        20.5524       21.9624        5100.0   \n",
       "1172   0.797   0.203        21.3005       21.9624        5128.0   \n",
       "1173   0.781   0.113        21.1867       21.9624        5198.0   \n",
       "1174   0.791   0.177        21.9624       21.9624        5240.0   \n",
       "1175   1.000   0.000        21.9624       21.9624        5241.0   \n",
       "\n",
       "     total_wordcount sent per word  \n",
       "0             2422.0      0.004368  \n",
       "1             2422.0      0.004368  \n",
       "2             2422.0      0.004368  \n",
       "3             2422.0      0.004368  \n",
       "4             2422.0      0.004368  \n",
       "...              ...           ...  \n",
       "1171          5241.0      0.004190  \n",
       "1172          5241.0      0.004190  \n",
       "1173          5241.0      0.004190  \n",
       "1174          5241.0      0.004190  \n",
       "1175          5241.0      0.004190  \n",
       "\n",
       "[1176 rows x 30 columns]"
      ]
     },
     "execution_count": 8,
     "metadata": {},
     "output_type": "execute_result"
    }
   ],
   "source": [
    "df "
   ]
  },
  {
   "cell_type": "code",
   "execution_count": 9,
   "metadata": {},
   "outputs": [],
   "source": [
    "pd.set_option('display.max_rows', 500)"
   ]
  },
  {
   "cell_type": "code",
   "execution_count": 10,
   "metadata": {},
   "outputs": [
    {
     "data": {
      "text/plain": [
       "THE           2430\n",
       "TO            1736\n",
       "AND           1579\n",
       "I             1152\n",
       "A              983\n",
       "OF             877\n",
       "IN             853\n",
       "THAT           731\n",
       "YOU            692\n",
       "WE             642\n",
       "—              555\n",
       "HAVE           544\n",
       "IS             479\n",
       "IT             440\n",
       "FOR            392\n",
       "ON             381\n",
       "THIS           339\n",
       "BUT            288\n",
       "DO             256\n",
       "THINK          256\n",
       "WITH           250\n",
       "ARE            241\n",
       "BE             237\n",
       "HE             233\n",
       "IF             232\n",
       "NOT            229\n",
       "PEOPLE         221\n",
       "ABOUT          217\n",
       "THEY           216\n",
       "GET            207\n",
       "MY             203\n",
       "OUR            198\n",
       "DON’T          196\n",
       "IT’S           196\n",
       "WHAT           195\n",
       "WAS            193\n",
       "GOING          186\n",
       "WANT           172\n",
       "GOT            169\n",
       "ALL            169\n",
       "BECAUSE        166\n",
       "AT             166\n",
       "SO             161\n",
       "CAN            159\n",
       "THAT’S         159\n",
       "ONE            148\n",
       "AS             145\n",
       "WHO            143\n",
       "ME             143\n",
       "WHEN           142\n",
       "WILL           138\n",
       "JUST           133\n",
       "OUT            131\n",
       "I’M            125\n",
       "MORE           124\n",
       "WOULD          123\n",
       "HAS            122\n",
       "UP             121\n",
       "THEIR          120\n",
       "IT.            119\n",
       "THERE          118\n",
       "PRESIDENT      118\n",
       "AMERICAN       114\n",
       "WE’RE          113\n",
       "QUAYLE:        112\n",
       "HAD            111\n",
       "GORE:          110\n",
       "LIKE           107\n",
       "AN             106\n",
       "OR             101\n",
       "YOUR           100\n",
       "GO              98\n",
       "THESE           97\n",
       "BEEN            97\n",
       "WELL,           96\n",
       "BUSH:           96\n",
       "BY              93\n",
       "PEROT:          93\n",
       "MAKE            93\n",
       "HEALTH          92\n",
       "SAID            92\n",
       "SOME            91\n",
       "THAN            91\n",
       "US              90\n",
       "WE’VE           88\n",
       "KNOW            87\n",
       "BILL            86\n",
       "VERY            86\n",
       "NOW,            83\n",
       "SAY             83\n",
       "BELIEVE         81\n",
       "CLINTON         81\n",
       "I’VE            80\n",
       "CAN’T           79\n",
       "HOW             79\n",
       "NEW             79\n",
       "COUNTRY         79\n",
       "THEN            78\n",
       "TAKE            78\n",
       "RIGHT           78\n",
       "LET             78\n",
       "WHERE           78\n",
       "BACK            76\n",
       "YOU’RE          75\n",
       "YEARS           75\n",
       "TAX             75\n",
       "OTHER           75\n",
       "FROM            75\n",
       "THEM            75\n",
       "THAT.           74\n",
       "(APPLAUSE)      74\n",
       "THEY’RE         74\n",
       "TIME            73\n",
       "THING           71\n",
       "DOWN            69\n",
       "IT,             69\n",
       "ANY             69\n",
       "GOOD            68\n",
       "THOSE           66\n",
       "BUSH            66\n",
       "CARE            66\n",
       "NOW             65\n",
       "TALK            65\n",
       "WERE            65\n",
       "HERE            63\n",
       "NEED            62\n",
       "INTO            61\n",
       "GOVERNMENT      61\n",
       "JOBS            59\n",
       "CLINTON:        59\n",
       "TELL            59\n",
       "DID             59\n",
       "EVERY           58\n",
       "LOOK            58\n",
       "CONGRESS        58\n",
       "I’LL            58\n",
       "HIS             57\n",
       "FIRST           55\n",
       "KNOW,           55\n",
       "PUT             54\n",
       "OUGHT           53\n",
       "WAY             53\n",
       "PAY             52\n",
       "HE’S            51\n",
       "MONEY           51\n",
       "LOT             51\n",
       "MR.             50\n",
       "THINGS          50\n",
       "OVER            49\n",
       "YOU’VE          48\n",
       "I’D             48\n",
       "WHY             48\n",
       "LET’S           48\n",
       "THERE’S         48\n",
       "SEE             48\n",
       "BILLION         47\n",
       "NO              46\n",
       "COULD           46\n",
       "MUCH            45\n",
       "PLAN            44\n",
       "MADE            43\n",
       "FAMILY          43\n",
       "WORLD           42\n",
       "SHOULD          42\n",
       "TAXES           42\n",
       "ECONOMIC        41\n",
       "4               40\n",
       "JOB             40\n",
       "MAKING          39\n",
       "LITTLE          39\n",
       "AMERICA         39\n",
       "CHANGE          39\n",
       "DIDN’T          39\n",
       "COUNTRY.        38\n",
       "TALKING         38\n",
       "PRIVATE         38\n",
       "GIVE            38\n",
       "GOVERNOR        38\n",
       "UNDER           38\n",
       "YEAR            38\n",
       "WORK            37\n",
       "LAST            37\n",
       "WHICH           37\n",
       "FOREIGN         36\n",
       "GEORGE          36\n",
       "AGAINST         36\n",
       "ONLY            36\n",
       "QUESTION        36\n",
       "BUDGET          36\n",
       "THROUGH         35\n",
       "2               35\n",
       "DOING           35\n",
       "BETTER          35\n",
       "WORKING         35\n",
       "SOMETHING       35\n",
       "ANSWER          35\n",
       "PROGRAM         34\n",
       "COME            34\n",
       "AM              34\n",
       "EVEN            34\n",
       "dtype: int64"
      ]
     },
     "execution_count": 10,
     "metadata": {},
     "output_type": "execute_result"
    }
   ],
   "source": [
    "overallwordcount1992 = pd.Series(' '.join(df.Transcript).split()).value_counts()[:200]\n",
    "overallwordcount1992"
   ]
  },
  {
   "cell_type": "code",
   "execution_count": 11,
   "metadata": {},
   "outputs": [
    {
     "data": {
      "text/plain": [
       "12"
      ]
     },
     "execution_count": 11,
     "metadata": {},
     "output_type": "execute_result"
    }
   ],
   "source": [
    "nuclear = df.Transcript.str.count('NUCLEAR') \n",
    "nuclear.sum()"
   ]
  },
  {
   "cell_type": "code",
   "execution_count": 12,
   "metadata": {},
   "outputs": [
    {
     "data": {
      "text/plain": [
       "1"
      ]
     },
     "execution_count": 12,
     "metadata": {},
     "output_type": "execute_result"
    }
   ],
   "source": [
    "atomic = df.Transcript.str.count('ATOMIC') \n",
    "atomic.sum()"
   ]
  },
  {
   "cell_type": "code",
   "execution_count": 14,
   "metadata": {},
   "outputs": [
    {
     "data": {
      "text/plain": [
       "1"
      ]
     },
     "execution_count": 14,
     "metadata": {},
     "output_type": "execute_result"
    }
   ],
   "source": [
    "proliferation = df.Transcript.str.count('PROLIFERATION') \n",
    "proliferation.sum()"
   ]
  },
  {
   "cell_type": "code",
   "execution_count": 15,
   "metadata": {},
   "outputs": [
    {
     "data": {
      "text/plain": [
       "0"
      ]
     },
     "execution_count": 15,
     "metadata": {},
     "output_type": "execute_result"
    }
   ],
   "source": [
    "nonproliferation = df.Transcript.str.count('NONPROLIFERATION') \n",
    "nonproliferation.sum()"
   ]
  },
  {
   "cell_type": "code",
   "execution_count": 16,
   "metadata": {},
   "outputs": [
    {
     "data": {
      "text/plain": [
       "0"
      ]
     },
     "execution_count": 16,
     "metadata": {},
     "output_type": "execute_result"
    }
   ],
   "source": [
    "non_proliferation = df.Transcript.str.count('NON-PROLIFERATION') \n",
    "non_proliferation.sum()"
   ]
  },
  {
   "cell_type": "code",
   "execution_count": 17,
   "metadata": {},
   "outputs": [
    {
     "data": {
      "text/plain": [
       "0"
      ]
     },
     "execution_count": 17,
     "metadata": {},
     "output_type": "execute_result"
    }
   ],
   "source": [
    "armsrace = df.Transcript.str.count('ARMS RACE') \n",
    "armsrace.sum()"
   ]
  },
  {
   "cell_type": "code",
   "execution_count": 18,
   "metadata": {},
   "outputs": [
    {
     "data": {
      "text/plain": [
       "24"
      ]
     },
     "execution_count": 18,
     "metadata": {},
     "output_type": "execute_result"
    }
   ],
   "source": [
    "women = df.Transcript.str.count('WOMEN') \n",
    "women.sum()"
   ]
  },
  {
   "cell_type": "code",
   "execution_count": 19,
   "metadata": {},
   "outputs": [
    {
     "data": {
      "text/plain": [
       "148"
      ]
     },
     "execution_count": 19,
     "metadata": {},
     "output_type": "execute_result"
    }
   ],
   "source": [
    "job = df.Transcript.str.count('JOB') \n",
    "job.sum()"
   ]
  },
  {
   "cell_type": "code",
   "execution_count": 20,
   "metadata": {},
   "outputs": [
    {
     "data": {
      "text/plain": [
       "96"
      ]
     },
     "execution_count": 20,
     "metadata": {},
     "output_type": "execute_result"
    }
   ],
   "source": [
    "jobs = df.Transcript.str.count('JOBS') \n",
    "jobs.sum()"
   ]
  },
  {
   "cell_type": "code",
   "execution_count": 21,
   "metadata": {},
   "outputs": [
    {
     "data": {
      "text/plain": [
       "8"
      ]
     },
     "execution_count": 21,
     "metadata": {},
     "output_type": "execute_result"
    }
   ],
   "source": [
    "unemployment = df.Transcript.str.count('UNEMPLOYMENT') \n",
    "unemployment.sum()"
   ]
  },
  {
   "cell_type": "code",
   "execution_count": 22,
   "metadata": {},
   "outputs": [
    {
     "data": {
      "text/plain": [
       "71"
      ]
     },
     "execution_count": 22,
     "metadata": {},
     "output_type": "execute_result"
    }
   ],
   "source": [
    "world = df.Transcript.str.count('WORLD') \n",
    "world.sum()"
   ]
  },
  {
   "cell_type": "code",
   "execution_count": 23,
   "metadata": {},
   "outputs": [
    {
     "data": {
      "text/plain": [
       "36"
      ]
     },
     "execution_count": 23,
     "metadata": {},
     "output_type": "execute_result"
    }
   ],
   "source": [
    "foreign = df.Transcript.str.count('FOREIGN') \n",
    "foreign.sum()"
   ]
  },
  {
   "cell_type": "code",
   "execution_count": 24,
   "metadata": {},
   "outputs": [
    {
     "data": {
      "text/plain": [
       "4"
      ]
     },
     "execution_count": 24,
     "metadata": {},
     "output_type": "execute_result"
    }
   ],
   "source": [
    "Iraq = df.Transcript.str.count('IRAQ') \n",
    "Iraq.sum()"
   ]
  },
  {
   "cell_type": "code",
   "execution_count": 25,
   "metadata": {},
   "outputs": [
    {
     "data": {
      "text/plain": [
       "2"
      ]
     },
     "execution_count": 25,
     "metadata": {},
     "output_type": "execute_result"
    }
   ],
   "source": [
    "Soviet = df.Transcript.str.count('SOVIET') \n",
    "Soviet.sum()"
   ]
  },
  {
   "cell_type": "code",
   "execution_count": 26,
   "metadata": {},
   "outputs": [
    {
     "data": {
      "text/plain": [
       "0"
      ]
     },
     "execution_count": 26,
     "metadata": {},
     "output_type": "execute_result"
    }
   ],
   "source": [
    "Soviets = df.Transcript.str.count('SOVIETS') \n",
    "Soviets.sum()"
   ]
  },
  {
   "cell_type": "code",
   "execution_count": 27,
   "metadata": {},
   "outputs": [
    {
     "data": {
      "text/plain": [
       "8"
      ]
     },
     "execution_count": 27,
     "metadata": {},
     "output_type": "execute_result"
    }
   ],
   "source": [
    "Russia = df.Transcript.str.count('RUSSIA') \n",
    "Russia.sum()"
   ]
  },
  {
   "cell_type": "code",
   "execution_count": null,
   "metadata": {},
   "outputs": [],
   "source": []
  }
 ],
 "metadata": {
  "kernelspec": {
   "display_name": "Python 3",
   "language": "python",
   "name": "python3"
  },
  "language_info": {
   "codemirror_mode": {
    "name": "ipython",
    "version": 3
   },
   "file_extension": ".py",
   "mimetype": "text/x-python",
   "name": "python",
   "nbconvert_exporter": "python",
   "pygments_lexer": "ipython3",
   "version": "3.7.4"
  }
 },
 "nbformat": 4,
 "nbformat_minor": 2
}
